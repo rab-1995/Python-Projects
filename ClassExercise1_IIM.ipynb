{
 "cells": [
  {
   "cell_type": "code",
   "execution_count": 5,
   "id": "3bca118e-ed94-4f15-a763-45116c105b5e",
   "metadata": {},
   "outputs": [
    {
     "name": "stdout",
     "output_type": "stream",
     "text": [
      "Hey how ar doing good\n"
     ]
    }
   ],
   "source": [
    "#Class Exercise 1\n",
    "#In the string below, get the first 10 characters and last 10 characters. Now join them to form a new string. \n",
    "\n",
    "str1 = 'Hey how are you doing. We are doing good'\n",
    "\n",
    "first = str1[0:10]\n",
    "last = str1[-10:]\n",
    "\n",
    "print(first + ' ' + last)\n"
   ]
  },
  {
   "cell_type": "code",
   "execution_count": 1,
   "id": "f5274e4b-c747-4f15-800a-4b80745ded69",
   "metadata": {},
   "outputs": [
    {
     "name": "stdout",
     "output_type": "stream",
     "text": [
      "strfusing_conings\n"
     ]
    }
   ],
   "source": [
    "#Class Exercise 2\n",
    "#Consider 2 strings x and y\n",
    "#Swap first 3 characters of each string and join them by an _\n",
    "x = 'confusing'\n",
    "y = 'strings'\n",
    "\n",
    "str = x.replace(\"con\",\"str\")\n",
    "str2 = y.replace(\"str\",\"con\")\n",
    "\n",
    "new_string = str + '_' + str2\n",
    "print(new_string)\n"
   ]
  },
  {
   "cell_type": "code",
   "execution_count": 17,
   "id": "8bfaa884-ae31-4f74-8edf-4eceb63d2b5a",
   "metadata": {},
   "outputs": [
    {
     "name": "stdout",
     "output_type": "stream",
     "text": [
      "Caesar cipher method is named after Julius Caesar!\n"
     ]
    }
   ],
   "source": [
    "#Class Exercise 3\n",
    "# In cryptography, a Caesar cipher is a very simple encryption techniques in which each letter in the plain text is replaced by a letter \n",
    "#some fixed number of positions down the alphabet. For example, with a shift of 3, A would be replaced by D, B would become E, and so on. \n",
    "#The method is named after Julius Caesar, who used it to communicate with his generals. ROT-13 (\"rotate by 13 places\") is a widely used\n",
    "#example of a Caesar cipher where the shift is 13. In Python, the key for ROT-13 may be represented by means of the following dictionary:\n",
    "\n",
    "\n",
    "key = {'a':'n', 'b':'o', 'c':'p', 'd':'q', 'e':'r', 'f':'s', 'g':'t', 'h':'u', 'i':'v', 'j':'w', 'k':'x', 'l':'y', 'm':'z', 'n':'a',\n",
    "       'o':'b', 'p':'c', 'q':'d', 'r':'e', 's':'f', 't':'g', 'u':'h', 'v':'i', 'w':'j', 'x':'k', 'y':'l', 'z':'m', 'A':'N', 'B':'O', \n",
    "       'C':'P', 'D':'Q', 'E':'R', 'F':'S', 'G':'T', 'H':'U', 'I':'V', 'J':'W', 'K':'X', 'L':'Y', 'M':'Z', 'N':'A', 'O':'B', 'P':'C', \n",
    "       'Q':'D', 'R':'E', 'S':'F', 'T':'G', 'U':'H', 'V':'I', 'W':'J', 'X':'K', 'Y':'L', 'Z':'M'}\n",
    "\n",
    "# Your task in this exercise is to implement an encoder/decoder of ROT-13. Once you're done, you will be able to read the following secret message:\n",
    "\n",
    "m = 'Pnrfne pvcure zrgubq vf anzrq nsgre Whyvhf Pnrfne!'\n",
    "\n",
    "message = ''\n",
    "for i in m:\n",
    "    if i in key: \n",
    "        message += key[i]\n",
    "    else: \n",
    "        message += i\n",
    "\n",
    "print(message)\n",
    "    "
   ]
  },
  {
   "cell_type": "code",
   "execution_count": null,
   "id": "c9e0b153-076c-4136-8c7c-6b2bbc15e200",
   "metadata": {},
   "outputs": [],
   "source": []
  }
 ],
 "metadata": {
  "kernelspec": {
   "display_name": "Python [conda env:base] *",
   "language": "python",
   "name": "conda-base-py"
  },
  "language_info": {
   "codemirror_mode": {
    "name": "ipython",
    "version": 3
   },
   "file_extension": ".py",
   "mimetype": "text/x-python",
   "name": "python",
   "nbconvert_exporter": "python",
   "pygments_lexer": "ipython3",
   "version": "3.11.7"
  }
 },
 "nbformat": 4,
 "nbformat_minor": 5
}
